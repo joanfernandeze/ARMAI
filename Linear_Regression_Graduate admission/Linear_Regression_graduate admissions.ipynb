{
 "cells": [
  {
   "cell_type": "code",
   "execution_count": null,
   "metadata": {},
   "outputs": [],
   "source": [
    "import numpy as np\n",
    "import pandas as pd\n",
    "import os\n",
    "import matplotlib.pyplot as plt\n",
    "csv_path=os.path.join('Admission_data.csv')\n",
    "admission_data_full= pd.read_csv(csv_path)"
   ]
  },
  {
   "cell_type": "code",
   "execution_count": null,
   "metadata": {},
   "outputs": [],
   "source": [
    "admission_data_full.info()"
   ]
  },
  {
   "cell_type": "code",
   "execution_count": null,
   "metadata": {},
   "outputs": [],
   "source": [
    "admission_data=admission_data_full.drop('Serial No.',axis=1)\n",
    "admission_data.describe()"
   ]
  },
  {
   "cell_type": "code",
   "execution_count": null,
   "metadata": {},
   "outputs": [],
   "source": [
    "%matplotlib inline\n",
    "import matplotlib.pyplot as plt\n",
    "\n",
    "admission_data.hist(bins=10,figsize=(20,12))\n",
    "plt.show()"
   ]
  },
  {
   "cell_type": "code",
   "execution_count": null,
   "metadata": {},
   "outputs": [],
   "source": [
    "from sklearn.model_selection import train_test_split\n",
    "\n",
    "train_set,test_set = train_test_split(admission_data,test_size=0.2,random_state=42)\n",
    "\n",
    "train_set.plot(kind='scatter',x='GRE Score',y='Chance of Admit ',alpha=0.4,)"
   ]
  },
  {
   "cell_type": "code",
   "execution_count": null,
   "metadata": {},
   "outputs": [],
   "source": [
    "train_set = train_set.astype(float)\n",
    "test_set= test_set.astype(float)\n",
    "train_set.info()"
   ]
  },
  {
   "cell_type": "code",
   "execution_count": null,
   "metadata": {},
   "outputs": [],
   "source": [
    "from pandas.plotting import scatter_matrix\n",
    "attributes = ['GRE Score','TOEFL Score','SOP','CGPA','Research']\n",
    "\n",
    "scatter_matrix(admission_data[attributes],figsize=(12,8))"
   ]
  },
  {
   "cell_type": "markdown",
   "metadata": {},
   "source": [
    "##### Preparing the data for the algorithms"
   ]
  },
  {
   "cell_type": "code",
   "execution_count": null,
   "metadata": {},
   "outputs": [],
   "source": [
    "train_labels=train_set['Chance of Admit '].copy()\n",
    "train_xunt=train_set.drop('Chance of Admit ',axis=1)\n",
    "test_labels=test_set['Chance of Admit '].copy()\n",
    "test_xunt=test_set.drop('Chance of Admit ',axis=1)"
   ]
  },
  {
   "cell_type": "code",
   "execution_count": null,
   "metadata": {},
   "outputs": [],
   "source": [
    "from sklearn.preprocessing import MinMaxScaler\n",
    "scaler1 = MinMaxScaler()\n",
    "scaler1.fit(train_xunt)\n",
    "train_x=scaler1.transform(train_xunt)\n",
    "scaler2 = MinMaxScaler()\n",
    "scaler2.fit(test_xunt)\n",
    "test_x=scaler1.transform(test_xunt)"
   ]
  },
  {
   "cell_type": "markdown",
   "metadata": {},
   "source": [
    "##### Linear regression approach"
   ]
  },
  {
   "cell_type": "code",
   "execution_count": null,
   "metadata": {},
   "outputs": [],
   "source": [
    "from sklearn.linear_model import LinearRegression\n",
    "\n",
    "lin_reg = LinearRegression() \n",
    "lin_reg.fit(train_x,train_labels)"
   ]
  },
  {
   "cell_type": "code",
   "execution_count": null,
   "metadata": {},
   "outputs": [],
   "source": [
    "train_predicted_values=lin_reg.predict(train_x)"
   ]
  },
  {
   "cell_type": "code",
   "execution_count": null,
   "metadata": {},
   "outputs": [],
   "source": [
    "plt.figure(figsize=(16,10))\n",
    "plt.scatter(train_labels,train_predicted_values)\n",
    "plt.ylabel('Train predicted values',fontweight='bold',  fontsize='15', horizontalalignment='center')\n",
    "plt.xlabel('Real values',fontweight='bold',  fontsize='15', horizontalalignment='center')\n",
    "plt.title('Linear Regression',fontweight='bold',  fontsize='15', horizontalalignment='center')\n",
    "plt.xticks( fontsize='12')\n",
    "plt.yticks(fontsize='12')\n"
   ]
  },
  {
   "cell_type": "code",
   "execution_count": null,
   "metadata": {},
   "outputs": [],
   "source": [
    "test_predicted_values=lin_reg.predict(test_x)"
   ]
  },
  {
   "cell_type": "code",
   "execution_count": null,
   "metadata": {},
   "outputs": [],
   "source": [
    "plt.figure(figsize=(16,10))\n",
    "plt.scatter(test_labels,test_predicted_values)\n",
    "plt.ylabel('Test predicted values',fontweight='bold',  fontsize='15', horizontalalignment='center')\n",
    "plt.xlabel('Real values',fontweight='bold',  fontsize='15', horizontalalignment='center')\n",
    "plt.xticks( fontsize='12')\n",
    "plt.yticks(fontsize='12')\n"
   ]
  },
  {
   "cell_type": "code",
   "execution_count": null,
   "metadata": {},
   "outputs": [],
   "source": [
    "train_labels_array=np.array(train_labels)\n",
    "test_labels_array=np.array(test_labels)\n",
    "y_error_train=train_labels_array-train_predicted_values\n",
    "y_error_test=test_labels_array-test_predicted_values"
   ]
  },
  {
   "cell_type": "code",
   "execution_count": null,
   "metadata": {},
   "outputs": [],
   "source": [
    "plt.figure(1,figsize=(16,12))\n",
    "plt.subplot(2,1,1)\n",
    "plt.title('Error values train data',fontweight='bold',  fontsize='15', horizontalalignment='center')\n",
    "plt.xticks( fontsize='12')\n",
    "plt.yticks(fontsize='12')\n",
    "plt.plot(y_error_train)\n",
    "plt.subplot(2,1,2)\n",
    "plt.title('Error values test data',fontweight='bold',  fontsize='15', horizontalalignment='center')\n",
    "plt.xticks( fontsize='12')\n",
    "plt.yticks(fontsize='12')\n",
    "plt.plot(y_error_test)"
   ]
  },
  {
   "cell_type": "code",
   "execution_count": null,
   "metadata": {},
   "outputs": [],
   "source": [
    "#We can determine the mean squared error of our approach\n",
    "from sklearn.metrics import mean_squared_error\n",
    "mse_total=mean_squared_error(test_labels,test_predicted_values)\n",
    "print('Mean squared error per data point = ' + str (mse_total))"
   ]
  },
  {
   "cell_type": "markdown",
   "metadata": {},
   "source": [
    "### Let's try to test a Random forest Regressor and determine whether it works better than linear regression"
   ]
  },
  {
   "cell_type": "code",
   "execution_count": null,
   "metadata": {},
   "outputs": [],
   "source": [
    "from sklearn.ensemble import RandomForestRegressor\n",
    "\n",
    "forest_reg = RandomForestRegressor()\n",
    "forest_reg.fit(train_x,train_labels)\n",
    "forest_train_predicted_values=forest_reg.predict(train_x)"
   ]
  },
  {
   "cell_type": "code",
   "execution_count": null,
   "metadata": {},
   "outputs": [],
   "source": [
    "plt.figure(figsize=(16,10))\n",
    "plt.scatter(train_labels,forest_train_predicted_values)\n",
    "plt.ylabel('Train predicted values',fontweight='bold',  fontsize='15', horizontalalignment='center')\n",
    "plt.xlabel('Real values',fontweight='bold',  fontsize='15', horizontalalignment='center')\n",
    "plt.title('Linear Regression',fontweight='bold',  fontsize='15', horizontalalignment='center')\n",
    "plt.xticks( fontsize='12')\n",
    "plt.yticks(fontsize='12')"
   ]
  },
  {
   "cell_type": "code",
   "execution_count": null,
   "metadata": {},
   "outputs": [],
   "source": []
  }
 ],
 "metadata": {
  "kernelspec": {
   "display_name": "Python 3",
   "language": "python",
   "name": "python3"
  },
  "language_info": {
   "codemirror_mode": {
    "name": "ipython",
    "version": 3
   },
   "file_extension": ".py",
   "mimetype": "text/x-python",
   "name": "python",
   "nbconvert_exporter": "python",
   "pygments_lexer": "ipython3",
   "version": "3.6.8"
  }
 },
 "nbformat": 4,
 "nbformat_minor": 2
}
