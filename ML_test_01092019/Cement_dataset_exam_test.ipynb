{
  "nbformat": 4,
  "nbformat_minor": 0,
  "metadata": {
    "kernelspec": {
      "display_name": "Python 3",
      "language": "python",
      "name": "python3"
    },
    "language_info": {
      "codemirror_mode": {
        "name": "ipython",
        "version": 3
      },
      "file_extension": ".py",
      "mimetype": "text/x-python",
      "name": "python",
      "nbconvert_exporter": "python",
      "pygments_lexer": "ipython3",
      "version": "3.6.8"
    },
    "colab": {
      "name": "Cement_dataset.ipynb",
      "provenance": [],
      "collapsed_sections": []
    }
  },
  "cells": [
    {
      "cell_type": "markdown",
      "metadata": {
        "id": "ODSftpgwhtI7",
        "colab_type": "text"
      },
      "source": [
        "Number of instances 1030 Number of Attributes 9 Attribute breakdown 8 quantitative input variables, \n",
        "and 1 quantitative output variable\n",
        "\n",
        "Name -- Data Type -- Measurement -- Description\n",
        "\n",
        "Cement (component 1) -- quantitative -- kg in a m3 mixture -- Input Variable \n",
        "Blast Furnace Slag (component 2) -- quantitative -- kg in a m3 mixture -- Input Variable \n",
        "Fly Ash (component 3) -- quantitative -- kg in a m3 mixture -- Input Variable \n",
        "Water (component 4) -- quantitative -- kg in a m3 mixture -- Input Variable \n",
        "Superplasticizer (component 5) -- quantitative -- kg in a m3 mixture -- Input Variable \n",
        "Coarse Aggregate (component 6) -- quantitative -- kg in a m3 mixture -- Input Variable \n",
        "Fine Aggregate (component 7) -- quantitative -- kg in a m3 mixture -- Input Variable \n",
        "Age -- quantitative -- Day (1~365) -- Input Variable \n",
        "Concrete compressive strength -- quantitative -- MPa -- Output Variable "
      ]
    },
    {
      "cell_type": "code",
      "metadata": {
        "id": "mp4RStqqhtI9",
        "colab_type": "code",
        "colab": {}
      },
      "source": [
        "import numpy as np\n",
        "import pandas as pd\n",
        "import os\n",
        "import matplotlib.pyplot as plt\n"
      ],
      "execution_count": 0,
      "outputs": []
    },
    {
      "cell_type": "code",
      "metadata": {
        "id": "1fieV4gFhxyl",
        "colab_type": "code",
        "colab": {}
      },
      "source": [
        "from google.colab import files\n",
        "uploaded = files.upload()"
      ],
      "execution_count": 0,
      "outputs": []
    },
    {
      "cell_type": "code",
      "metadata": {
        "id": "_D75e43fhx53",
        "colab_type": "code",
        "colab": {}
      },
      "source": [
        "concrete_data=pd.read_csv('Concrete_Data.csv')"
      ],
      "execution_count": 0,
      "outputs": []
    },
    {
      "cell_type": "code",
      "metadata": {
        "id": "3X3x2KMahtI_",
        "colab_type": "code",
        "colab": {},
        "outputId": "ee9894b4-39c4-4174-8595-67b38abc3e1c"
      },
      "source": [
        "concrete_data.info()"
      ],
      "execution_count": 0,
      "outputs": [
        {
          "output_type": "stream",
          "text": [
            "<class 'pandas.core.frame.DataFrame'>\n",
            "RangeIndex: 1030 entries, 0 to 1029\n",
            "Data columns (total 9 columns):\n",
            "cement              1030 non-null float64\n",
            "slag                1030 non-null float64\n",
            "flyash              1030 non-null float64\n",
            "water               1030 non-null float64\n",
            "superplasticizer    1030 non-null float64\n",
            "coarseaggregate     1030 non-null float64\n",
            "fineaggregate       1030 non-null float64\n",
            "age                 1030 non-null int64\n",
            "csMPa               1030 non-null float64\n",
            "dtypes: float64(8), int64(1)\n",
            "memory usage: 72.5 KB\n"
          ],
          "name": "stdout"
        }
      ]
    },
    {
      "cell_type": "code",
      "metadata": {
        "id": "d34klMWUhtJS",
        "colab_type": "code",
        "colab": {}
      },
      "source": [
        ""
      ],
      "execution_count": 0,
      "outputs": []
    }
  ]
}